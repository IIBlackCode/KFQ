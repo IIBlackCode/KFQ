{
 "cells": [
  {
   "cell_type": "markdown",
   "id": "b273b1eb",
   "metadata": {},
   "source": [
    "## 테스트\n",
    "변수에 여러 데이터를 담아 하나의 이름으로 데이터를 다루는 기술"
   ]
  },
  {
   "cell_type": "code",
   "execution_count": 3,
   "id": "3adc5d45",
   "metadata": {},
   "outputs": [
    {
     "data": {
      "text/plain": [
       "[1, 2, 3, 5]"
      ]
     },
     "execution_count": 3,
     "metadata": {},
     "output_type": "execute_result"
    }
   ],
   "source": [
    "a = [ 1, 2, 3, 5]\n",
    "a"
   ]
  },
  {
   "cell_type": "code",
   "execution_count": 2,
   "id": "a72eff84",
   "metadata": {},
   "outputs": [
    {
     "data": {
      "text/plain": [
       "'Python is fun!'"
      ]
     },
     "execution_count": 2,
     "metadata": {},
     "output_type": "execute_result"
    }
   ],
   "source": [
    "head = \"Python\"\n",
    "tail = \" is fun!\"\n",
    "head + tail"
   ]
  },
  {
   "cell_type": "code",
   "execution_count": null,
   "id": "faea4ef0",
   "metadata": {},
   "outputs": [],
   "source": [
    "print('----------------------')\n",
    "print('-'*50)"
   ]
  },
  {
   "cell_type": "markdown",
   "id": "6f647066",
   "metadata": {},
   "source": [
    "공백도 없어보이는 문자, 그래서 총 17이 나온다"
   ]
  },
  {
   "cell_type": "code",
   "execution_count": 9,
   "id": "b5534441",
   "metadata": {},
   "outputs": [
    {
     "data": {
      "text/plain": [
       "17"
      ]
     },
     "execution_count": 9,
     "metadata": {},
     "output_type": "execute_result"
    }
   ],
   "source": [
    "a = \"Life is too short\"\n",
    "len(a)"
   ]
  },
  {
   "cell_type": "markdown",
   "id": "1d3da55b",
   "metadata": {},
   "source": [
    "맨 끝 문자만 출력하려면?"
   ]
  },
  {
   "cell_type": "code",
   "execution_count": 10,
   "id": "0de4b825",
   "metadata": {},
   "outputs": [
    {
     "data": {
      "text/plain": [
       "'n'"
      ]
     },
     "execution_count": 10,
     "metadata": {},
     "output_type": "execute_result"
    }
   ],
   "source": [
    "a = \"Life is too short, You need Python\"\n",
    "a[-1]"
   ]
  },
  {
   "cell_type": "markdown",
   "id": "49bf1c3c",
   "metadata": {},
   "source": [
    "\"파이썬은 0부터 숫자를 센다.\" < 오프셋 개념이라 선형적인 구조로 되어있다.\n",
    "\n",
    "a[19:-7] : 19번째부터 -7번째까지"
   ]
  },
  {
   "cell_type": "code",
   "execution_count": 15,
   "id": "290363bc",
   "metadata": {},
   "outputs": [
    {
     "name": "stdout",
     "output_type": "stream",
     "text": [
      "a[19] :  Y\n",
      "a[-7] :   \n"
     ]
    }
   ],
   "source": [
    "a[19:-7]\n",
    "print(\"a[19] : \",a[19])\n",
    "print(\"a[-7] : \",a[-7])"
   ]
  },
  {
   "cell_type": "code",
   "execution_count": 16,
   "id": "098245a6",
   "metadata": {},
   "outputs": [
    {
     "data": {
      "text/plain": [
       "'I ate 10 apples. so I was sick for three days.'"
      ]
     },
     "execution_count": 16,
     "metadata": {},
     "output_type": "execute_result"
    }
   ],
   "source": [
    "number = 10\n",
    "day = \"three\"\n",
    "\"I ate {0} apples. so I was sick for {1} days.\".format(number, day)"
   ]
  },
  {
   "cell_type": "markdown",
   "id": "e23cf403",
   "metadata": {},
   "source": [
    "a가 객체인지 확인하려면 \n",
    ".을 찍으면 내부 함수를 알 수 있다. \n",
    "그 함수의 유무로 확인가능"
   ]
  },
  {
   "cell_type": "code",
   "execution_count": 17,
   "id": "17820c95",
   "metadata": {},
   "outputs": [
    {
     "data": {
      "text/plain": [
       "<function str.format>"
      ]
     },
     "execution_count": 17,
     "metadata": {},
     "output_type": "execute_result"
    }
   ],
   "source": [
    "a.format"
   ]
  },
  {
   "cell_type": "code",
   "execution_count": 20,
   "id": "34e882cf",
   "metadata": {},
   "outputs": [
    {
     "data": {
      "text/plain": [
       "1"
      ]
     },
     "execution_count": 20,
     "metadata": {},
     "output_type": "execute_result"
    }
   ],
   "source": [
    "a = \"habby\"\n",
    "a.count('h')\n",
    "#argument  : 인수"
   ]
  }
 ],
 "metadata": {
  "kernelspec": {
   "display_name": "Python 3",
   "language": "python",
   "name": "python3"
  },
  "language_info": {
   "codemirror_mode": {
    "name": "ipython",
    "version": 3
   },
   "file_extension": ".py",
   "mimetype": "text/x-python",
   "name": "python",
   "nbconvert_exporter": "python",
   "pygments_lexer": "ipython3",
   "version": "3.8.8"
  }
 },
 "nbformat": 4,
 "nbformat_minor": 5
}
