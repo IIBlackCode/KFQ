{
 "cells": [
  {
   "cell_type": "code",
   "execution_count": null,
   "id": "6c675577",
   "metadata": {},
   "outputs": [],
   "source": [
    "class Duck:\n",
    "    \n",
    "    def __init__(self):\n",
    "        self.x\n",
    "        self.y\n",
    "    \n",
    "    def display(self):\n",
    "        print(\"X : \",self.x,\"  Y : \",self.y)\n",
    "        \n",
    "        \n",
    "class MallardDuck(Duck):\n",
    "    \n",
    "    @overriding\n",
    "    def display(self):\n",
    "        print(\"MallardDuck\",self.x)"
   ]
  }
 ],
 "metadata": {
  "kernelspec": {
   "display_name": "Python 3",
   "language": "python",
   "name": "python3"
  },
  "language_info": {
   "codemirror_mode": {
    "name": "ipython",
    "version": 3
   },
   "file_extension": ".py",
   "mimetype": "text/x-python",
   "name": "python",
   "nbconvert_exporter": "python",
   "pygments_lexer": "ipython3",
   "version": "3.8.8"
  }
 },
 "nbformat": 4,
 "nbformat_minor": 5
}
