{
 "cells": [
  {
   "cell_type": "code",
   "execution_count": 11,
   "id": "c636f555",
   "metadata": {},
   "outputs": [],
   "source": [
    "현재페이지 = 5\n",
    "시작페이지 = 현재페이지 //10 * 10 + 1\n",
    "끝페이지 = 시작페이지 + 9"
   ]
  },
  {
   "cell_type": "markdown",
   "id": "06ec14a9",
   "metadata": {},
   "source": [
    "# 전체 페이지 개수 구하기"
   ]
  },
  {
   "cell_type": "code",
   "execution_count": 3,
   "id": "739b48f2",
   "metadata": {},
   "outputs": [],
   "source": [
    "페이지당게시물_수 = 10\n",
    "전체게시물_수 = 14\n",
    "전체페이지_수 = 0"
   ]
  },
  {
   "cell_type": "code",
   "execution_count": 8,
   "id": "6516c17b",
   "metadata": {},
   "outputs": [],
   "source": [
    "\n",
    "전체페이지수 = 전체게시물_수//페이지당게시물_수\n",
    "if 전체게시물_수 % 10 != 0: #나누어떨어지지 않는 경우\n",
    "\t전체페이지_수 += 1"
   ]
  },
  {
   "cell_type": "code",
   "execution_count": 9,
   "id": "4512a7ba",
   "metadata": {},
   "outputs": [
    {
     "data": {
      "text/plain": [
       "1"
      ]
     },
     "execution_count": 9,
     "metadata": {},
     "output_type": "execute_result"
    }
   ],
   "source": [
    "전체페이지_수"
   ]
  }
 ],
 "metadata": {
  "kernelspec": {
   "display_name": "Python 3",
   "language": "python",
   "name": "python3"
  },
  "language_info": {
   "codemirror_mode": {
    "name": "ipython",
    "version": 3
   },
   "file_extension": ".py",
   "mimetype": "text/x-python",
   "name": "python",
   "nbconvert_exporter": "python",
   "pygments_lexer": "ipython3",
   "version": "3.8.8"
  }
 },
 "nbformat": 4,
 "nbformat_minor": 5
}
