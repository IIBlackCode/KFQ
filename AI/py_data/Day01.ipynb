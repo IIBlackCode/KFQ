{
 "cells": [
  {
   "cell_type": "code",
   "execution_count": 10,
   "id": "6b58ff5b",
   "metadata": {},
   "outputs": [
    {
     "data": {
      "text/plain": [
       "'hello'"
      ]
     },
     "execution_count": 10,
     "metadata": {},
     "output_type": "execute_result"
    }
   ],
   "source": [
    "a = 10\n",
    "a\n",
    "a = \"hello\"\n",
    "a"
   ]
  },
  {
   "cell_type": "code",
   "execution_count": 12,
   "id": "9a3f1002",
   "metadata": {},
   "outputs": [
    {
     "data": {
      "text/plain": [
       "'hello'"
      ]
     },
     "execution_count": 12,
     "metadata": {},
     "output_type": "execute_result"
    }
   ],
   "source": [
    "#논리값 표현\n",
    "b = True\n",
    "b = False\n",
    "b"
   ]
  },
  {
   "cell_type": "code",
   "execution_count": 17,
   "id": "3c8a30c3",
   "metadata": {},
   "outputs": [
    {
     "data": {
      "text/plain": [
       "5"
      ]
     },
     "execution_count": 17,
     "metadata": {},
     "output_type": "execute_result"
    }
   ],
   "source": [
    "#홀수만 담은 리스트\n",
    "odd = [1, 3, 5, 7, 9, 11]\n",
    "#index : 시작번지(1) 로부터 떨어진 거리 - 오프셋 개념\n",
    "odd[0] + odd[2]"
   ]
  },
  {
   "cell_type": "code",
   "execution_count": 18,
   "id": "51cf6259",
   "metadata": {},
   "outputs": [
    {
     "data": {
      "text/plain": [
       "11"
      ]
     },
     "execution_count": 18,
     "metadata": {},
     "output_type": "execute_result"
    }
   ],
   "source": [
    "#index는 원칙적으로 0부터 시작, 음수면?\n",
    "odd[-1]"
   ]
  },
  {
   "cell_type": "code",
   "execution_count": 22,
   "id": "1d2f5e8d",
   "metadata": {},
   "outputs": [
    {
     "data": {
      "text/plain": [
       "[1, 2, 3, 4.5, 'Hello']"
      ]
     },
     "execution_count": 22,
     "metadata": {},
     "output_type": "execute_result"
    }
   ],
   "source": [
    "#타 언어에서는 리스트에 다른 자료형이 저장되는것을 원칙으로 하지 않는다.\n",
    "odd = [1, 2, 3, 4.5, \"Hello\"]\n",
    "odd"
   ]
  },
  {
   "cell_type": "code",
   "execution_count": 23,
   "id": "433b5a77",
   "metadata": {},
   "outputs": [
    {
     "ename": "TypeError",
     "evalue": "can only concatenate str (not \"int\") to str",
     "output_type": "error",
     "traceback": [
      "\u001b[1;31m---------------------------------------------------------------------------\u001b[0m",
      "\u001b[1;31mTypeError\u001b[0m                                 Traceback (most recent call last)",
      "\u001b[1;32m<ipython-input-23-e7102fc9445e>\u001b[0m in \u001b[0;36m<module>\u001b[1;34m\u001b[0m\n\u001b[1;32m----> 1\u001b[1;33m \u001b[0modd\u001b[0m\u001b[1;33m[\u001b[0m\u001b[1;36m4\u001b[0m\u001b[1;33m]\u001b[0m \u001b[1;33m+\u001b[0m\u001b[1;36m3\u001b[0m\u001b[1;33m\u001b[0m\u001b[1;33m\u001b[0m\u001b[0m\n\u001b[0m",
      "\u001b[1;31mTypeError\u001b[0m: can only concatenate str (not \"int\") to str"
     ]
    }
   ],
   "source": [
    "odd[4] +3"
   ]
  },
  {
   "cell_type": "code",
   "execution_count": 35,
   "id": "59922cca",
   "metadata": {},
   "outputs": [
    {
     "name": "stdout",
     "output_type": "stream",
     "text": [
      " Lif is to short \n",
      " You need python\n"
     ]
    }
   ],
   "source": [
    "#웹기반 툴이기 때문에 str을 그냥 찍으면 줄바꿈이 나타나지 않고 에러가 발생\n",
    "#콘솔창에서는 정상적으로 줄바꿈이 발생한다. 이를 확인하기 위해 print()함수 사용\n",
    "str = \" Lif is to short \\n You need python\"\n",
    "str\n",
    "print(str)"
   ]
  },
  {
   "cell_type": "code",
   "execution_count": 36,
   "id": "bea5c214",
   "metadata": {},
   "outputs": [
    {
     "name": "stdout",
     "output_type": "stream",
     "text": [
      "Lif is to short \n",
      " You need python\n"
     ]
    }
   ],
   "source": [
    "str = \"\"\"Lif is to short \\n You need python\"\"\"\n",
    "str\n",
    "print(str)"
   ]
  }
 ],
 "metadata": {
  "kernelspec": {
   "display_name": "Python 3",
   "language": "python",
   "name": "python3"
  },
  "language_info": {
   "codemirror_mode": {
    "name": "ipython",
    "version": 3
   },
   "file_extension": ".py",
   "mimetype": "text/x-python",
   "name": "python",
   "nbconvert_exporter": "python",
   "pygments_lexer": "ipython3",
   "version": "3.8.8"
  }
 },
 "nbformat": 4,
 "nbformat_minor": 5
}
