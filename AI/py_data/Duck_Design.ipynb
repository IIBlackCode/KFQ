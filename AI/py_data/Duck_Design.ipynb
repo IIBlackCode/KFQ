{
 "cells": [
  {
   "cell_type": "markdown",
   "id": "f31b964c",
   "metadata": {},
   "source": [
    "# Super Class <-> Sub Class(Top --> Down)"
   ]
  },
  {
   "cell_type": "code",
   "execution_count": 55,
   "id": "c07d65b8",
   "metadata": {},
   "outputs": [],
   "source": [
    "import random\n",
    "import turtle\n",
    "\n",
    "\n",
    "# Super Class\n",
    "class Duck:\n",
    "    \n",
    "    # instance value\n",
    "    def __init__(self):\n",
    "        #         self.__color = ''\n",
    "        self.x = random.randint(-300, 300)\n",
    "        self.y = random.randint(-300, 300)\n",
    "        self.size = random.randint(10, 30)\n",
    "        self.__turtle = None\n",
    "\n",
    "    def display(self, turtle):\n",
    "        print(self.x, ',', self.y, '=', self.size)\n",
    "        self.__turtle = turtle\n",
    "        self.__turtle.penup()\n",
    "        self.__turtle.shape(\"turtle\")\n",
    "        self.__turtle.shapesize(3,4,2)\n",
    "        \n",
    "        for c in color:\n",
    "            print(color)\n",
    "            self.__turtle.color(c)\n",
    "        self.__turtle.begin_fill()\n",
    "        self.__turtle.circle(self.size)\n",
    "        self.__turtle.end_fill()\n",
    "        self.__turtle.setposition(self.x,self.y)\n",
    "\n",
    "\n",
    "    def screen_reset(self):\n",
    "        self.__turtle.reset()"
   ]
  },
  {
   "cell_type": "code",
   "execution_count": 56,
   "id": "d90805c2",
   "metadata": {},
   "outputs": [
    {
     "name": "stdout",
     "output_type": "stream",
     "text": [
      "-14 , -73 = 24\n",
      "['#FF0000', '#FF5E00', '#FFBB00', '#FFE400', '#ABF200', '#1DDB16', '#00D8FF', '#0054FF', '#0100FF', '#5F00FF']\n",
      "['#FF0000', '#FF5E00', '#FFBB00', '#FFE400', '#ABF200', '#1DDB16', '#00D8FF', '#0054FF', '#0100FF', '#5F00FF']\n",
      "['#FF0000', '#FF5E00', '#FFBB00', '#FFE400', '#ABF200', '#1DDB16', '#00D8FF', '#0054FF', '#0100FF', '#5F00FF']\n",
      "['#FF0000', '#FF5E00', '#FFBB00', '#FFE400', '#ABF200', '#1DDB16', '#00D8FF', '#0054FF', '#0100FF', '#5F00FF']\n",
      "['#FF0000', '#FF5E00', '#FFBB00', '#FFE400', '#ABF200', '#1DDB16', '#00D8FF', '#0054FF', '#0100FF', '#5F00FF']\n",
      "['#FF0000', '#FF5E00', '#FFBB00', '#FFE400', '#ABF200', '#1DDB16', '#00D8FF', '#0054FF', '#0100FF', '#5F00FF']\n",
      "['#FF0000', '#FF5E00', '#FFBB00', '#FFE400', '#ABF200', '#1DDB16', '#00D8FF', '#0054FF', '#0100FF', '#5F00FF']\n",
      "['#FF0000', '#FF5E00', '#FFBB00', '#FFE400', '#ABF200', '#1DDB16', '#00D8FF', '#0054FF', '#0100FF', '#5F00FF']\n",
      "['#FF0000', '#FF5E00', '#FFBB00', '#FFE400', '#ABF200', '#1DDB16', '#00D8FF', '#0054FF', '#0100FF', '#5F00FF']\n",
      "['#FF0000', '#FF5E00', '#FFBB00', '#FFE400', '#ABF200', '#1DDB16', '#00D8FF', '#0054FF', '#0100FF', '#5F00FF']\n"
     ]
    }
   ],
   "source": [
    "d = Duck()\n",
    "d.display(turtle)\n"
   ]
  },
  {
   "cell_type": "code",
   "execution_count": null,
   "id": "46a2c451",
   "metadata": {},
   "outputs": [],
   "source": [
    "#Duck 객체 10마리 만들기\n",
    "duck_list = []\n",
    "for i in range(0,100):\n",
    "    duck_list.append(Duck())"
   ]
  },
  {
   "cell_type": "code",
   "execution_count": 54,
   "id": "6b16f8f8",
   "metadata": {},
   "outputs": [
    {
     "name": "stdout",
     "output_type": "stream",
     "text": [
      "-265 , 13 = 19\n",
      "241 , 29 = 23\n",
      "255 , -97 = 15\n",
      "115 , 168 = 13\n",
      "130 , -140 = 12\n",
      "149 , 281 = 22\n",
      "60 , -263 = 23\n",
      "-66 , 99 = 11\n",
      "197 , -117 = 30\n",
      "-174 , 144 = 27\n",
      "-104 , 233 = 14\n",
      "235 , 84 = 23\n",
      "196 , -277 = 29\n",
      "286 , 129 = 24\n",
      "241 , -87 = 30\n",
      "173 , 35 = 26\n",
      "-151 , 143 = 25\n",
      "-123 , -290 = 29\n",
      "-100 , 154 = 19\n",
      "150 , -143 = 11\n",
      "192 , -66 = 11\n",
      "214 , 36 = 28\n",
      "-34 , -300 = 24\n",
      "221 , 262 = 27\n",
      "33 , 16 = 18\n",
      "128 , -79 = 12\n",
      "52 , 225 = 15\n",
      "25 , -233 = 21\n",
      "60 , -235 = 30\n",
      "238 , 81 = 13\n",
      "-89 , 171 = 11\n",
      "274 , -87 = 23\n",
      "219 , 97 = 22\n",
      "-162 , -100 = 25\n",
      "-298 , 177 = 26\n",
      "289 , -222 = 23\n",
      "-149 , 141 = 25\n",
      "-258 , -237 = 21\n",
      "99 , -198 = 17\n",
      "260 , -135 = 14\n",
      "-252 , -151 = 14\n",
      "202 , -258 = 22\n",
      "-5 , -34 = 12\n",
      "-87 , 158 = 22\n",
      "-250 , -80 = 29\n",
      "-296 , -1 = 24\n",
      "77 , 76 = 27\n",
      "227 , -76 = 12\n",
      "-24 , -49 = 12\n",
      "13 , 270 = 10\n",
      "239 , 176 = 23\n",
      "262 , -178 = 22\n",
      "-37 , 192 = 23\n",
      "-260 , -121 = 17\n",
      "122 , -137 = 23\n",
      "-203 , 60 = 21\n",
      "-245 , -298 = 19\n",
      "-50 , 45 = 26\n",
      "23 , 34 = 19\n",
      "271 , -164 = 10\n",
      "181 , 180 = 24\n",
      "244 , -296 = 29\n",
      "134 , 120 = 26\n",
      "58 , 197 = 25\n",
      "-269 , -295 = 27\n",
      "75 , -295 = 27\n",
      "89 , -119 = 20\n",
      "185 , 156 = 23\n",
      "-119 , -112 = 16\n",
      "281 , 123 = 29\n",
      "-161 , 118 = 29\n",
      "-105 , 262 = 29\n",
      "-299 , -109 = 27\n",
      "-61 , 111 = 18\n",
      "27 , 193 = 25\n",
      "-289 , 23 = 25\n",
      "-17 , 84 = 26\n",
      "130 , -204 = 26\n",
      "96 , -118 = 11\n",
      "124 , -152 = 25\n",
      "147 , -97 = 29\n",
      "18 , 158 = 23\n",
      "-243 , -118 = 29\n",
      "108 , -73 = 14\n",
      "-29 , -32 = 10\n",
      "-47 , -24 = 22\n",
      "-297 , 278 = 28\n",
      "73 , 280 = 21\n",
      "34 , -150 = 15\n",
      "-89 , -207 = 10\n",
      "-67 , -293 = 11\n",
      "155 , 288 = 22\n",
      "206 , 283 = 13\n",
      "204 , -175 = 13\n",
      "-257 , 72 = 24\n",
      "166 , -84 = 22\n",
      "-222 , -81 = 24\n",
      "-186 , 85 = 10\n",
      "238 , 41 = 25\n",
      "-230 , -134 = 30\n"
     ]
    }
   ],
   "source": [
    "for v in duck_list:\n",
    "    v.display(turtle)"
   ]
  },
  {
   "cell_type": "code",
   "execution_count": null,
   "id": "33df5563",
   "metadata": {},
   "outputs": [],
   "source": [
    "d.screen_reset()"
   ]
  },
  {
   "cell_type": "code",
   "execution_count": null,
   "id": "755643e0",
   "metadata": {},
   "outputs": [],
   "source": []
  }
 ],
 "metadata": {
  "kernelspec": {
   "display_name": "Python 3",
   "language": "python",
   "name": "python3"
  },
  "language_info": {
   "codemirror_mode": {
    "name": "ipython",
    "version": 3
   },
   "file_extension": ".py",
   "mimetype": "text/x-python",
   "name": "python",
   "nbconvert_exporter": "python",
   "pygments_lexer": "ipython3",
   "version": "3.8.8"
  }
 },
 "nbformat": 4,
 "nbformat_minor": 5
}
