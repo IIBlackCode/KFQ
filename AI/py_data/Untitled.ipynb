{
 "cells": [
  {
   "cell_type": "code",
   "execution_count": 1,
   "id": "3974d2e0",
   "metadata": {},
   "outputs": [],
   "source": [
    "class Duck:\n",
    "    x = None\n",
    "    y = None\n",
    "    SIZE = None\n",
    "    \n",
    "    def __init__(self):\n",
    "        self.x\n",
    "        self.y\n",
    "        self.SIZE\n",
    "        \n",
    "    def display(self):\n",
    "        pass\n",
    "    \n",
    "    def move(self):\n",
    "        pass\n",
    "    \n",
    "    def sound(self):\n",
    "        pass\n",
    "    \n",
    "class MallardDuck(Duck):\n",
    "    def display():\n",
    "        pass\n",
    "    \n",
    "class RedDuck(Duck)\n",
    "    def display():\n",
    "        pass"
   ]
  },
  {
   "cell_type": "code",
   "execution_count": null,
   "id": "2f4b2f07",
   "metadata": {},
   "outputs": [],
   "source": []
  }
 ],
 "metadata": {
  "kernelspec": {
   "display_name": "Python 3",
   "language": "python",
   "name": "python3"
  },
  "language_info": {
   "codemirror_mode": {
    "name": "ipython",
    "version": 3
   },
   "file_extension": ".py",
   "mimetype": "text/x-python",
   "name": "python",
   "nbconvert_exporter": "python",
   "pygments_lexer": "ipython3",
   "version": "3.8.8"
  }
 },
 "nbformat": 4,
 "nbformat_minor": 5
}
